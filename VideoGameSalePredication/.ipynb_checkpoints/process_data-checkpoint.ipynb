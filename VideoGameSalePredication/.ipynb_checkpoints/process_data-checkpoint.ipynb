{
 "cells": [
  {
   "cell_type": "code",
   "execution_count": null,
   "metadata": {},
   "outputs": [],
   "source": [
    "##excercise from Linda.com Keras Tutorial\n",
    "from sklearn.preprocessing import MinMasScaler\n",
    "import pandas as pd\n",
    "\n",
    "training_data_df = pd.read_csv(\"sales_data_training.csv\")\n",
    "test_data_df = pd.read_csv(\"sales_data_test.csv\")\n",
    "\n",
    "#data to be scaled to a small range like 0 to 1\n",
    "scaler = MinMaxScaler(feature_range=(0.1))\n",
    "scaled_training = scaler.fit_transform(traning_data_df)\n",
    "scaled_testing = scaler.transform(test_data_df)\n",
    "#create new pands DataFrame objects from the scaled data\n",
    "scaled_traning_df=pd.DataFrame(scaled_training,colums=training_data_df.columns.values)\n",
    "scaled_testing_df=pd.DataFrame(scaled_testing,columns=test_data_df.columns.values)\n",
    "\n",
    "#Save scaled data dataframes to new CSV files\n",
    "scaled_training_df.to_csv(\"sales_data_training_scaled.csv\", Index = False)\n",
    "scaled_testing_df.to_csv(\"sales_data_test_scaled.csv\",index = False)"
   ]
  }
 ],
 "metadata": {
  "kernelspec": {
   "display_name": "Python 3",
   "language": "python",
   "name": "python3"
  },
  "language_info": {
   "codemirror_mode": {
    "name": "ipython",
    "version": 3
   },
   "file_extension": ".py",
   "mimetype": "text/x-python",
   "name": "python",
   "nbconvert_exporter": "python",
   "pygments_lexer": "ipython3",
   "version": "3.6.4"
  }
 },
 "nbformat": 4,
 "nbformat_minor": 2
}
